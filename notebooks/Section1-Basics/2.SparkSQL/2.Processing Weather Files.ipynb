{
 "cells": [
  {
   "cell_type": "markdown",
   "id": "86a21390",
   "metadata": {
    "slideshow": {
     "slide_type": "slide"
    },
    "tags": []
   },
   "source": [
    "## Shared Data Directory\n",
    "\n",
    "Each cluster has it's own file system, however all clusters have access to the shared directory:\n",
    "\n",
    "**%cd /datasets/cs255-sp22-a00-public/**\n",
    "\n",
    "Currently, there are two subdirectories:\n",
    "\n",
    "* 98G noaa\n",
    "* 3.6G noaa-parquet\n",
    "\n",
    "They both contain the same raw information, yet the parquet repository is much smaller."
   ]
  },
  {
   "cell_type": "markdown",
   "id": "5a8637d5",
   "metadata": {
    "slideshow": {
     "slide_type": "subslide"
    },
    "tags": []
   },
   "source": [
    "### NOAA Global Historical Climatology Network Daily (GHCN-D)\n",
    "\n",
    "the noaa data was downloaded from an S3 bucket descried here\n",
    "\n",
    "https://registry.opendata.aws/noaa-ghcn/\n"
   ]
  },
  {
   "cell_type": "markdown",
   "id": "50ffb177",
   "metadata": {
    "slideshow": {
     "slide_type": "slide"
    }
   },
   "source": [
    "#### The files and subdirs in noaa\n",
    "\n",
    "### Main Data Directory\n",
    "* **98G\tcsv.gz**\n",
    "\n",
    "### Documentation\n",
    "* 36K\tghcn-daily-by_year-format.rtf\n",
    "* 6.5K\tghcnd-countries.txt\n",
    "* 32M\tghcnd-inventory.txt\n",
    "* 6.5K\tghcnd-states.txt\n",
    "* 9.9M\tghcnd-stations.txt\n",
    "* 6.5K\tghcnd-version.txt\n",
    "* 36K\tindex.html\n",
    "* 4.1M\tmingle-list.txt\n",
    "* 6.5K\treadme-by_year.txt\n",
    "* 30K\treadme.txt\n",
    "* 6.5K\tstatus-by_year.txt\n",
    "* 41K\tstatus.txt\n",
    "\n",
    "### Logs\n",
    "* 37M\tdownload.log\n"
   ]
  },
  {
   "cell_type": "code",
   "execution_count": 1,
   "id": "1f47011e",
   "metadata": {
    "slideshow": {
     "slide_type": "skip"
    }
   },
   "outputs": [],
   "source": [
    "import pandas as pd"
   ]
  },
  {
   "cell_type": "code",
   "execution_count": 2,
   "id": "92506df8",
   "metadata": {
    "scrolled": true,
    "slideshow": {
     "slide_type": "slide"
    }
   },
   "outputs": [
    {
     "name": "stdout",
     "output_type": "stream",
     "text": [
      "head: cannot open 'file.sizes' for reading: No such file or directory\r\n"
     ]
    }
   ],
   "source": [
    "!head -4 file.sizes"
   ]
  },
  {
   "cell_type": "code",
   "execution_count": 3,
   "id": "efb88d2e",
   "metadata": {
    "slideshow": {
     "slide_type": "fragment"
    },
    "tags": []
   },
   "outputs": [
    {
     "name": "stdout",
     "output_type": "stream",
     "text": [
      "tail: cannot open 'file.sizes' for reading: No such file or directory\r\n"
     ]
    }
   ],
   "source": [
    "!tail -4 file.sizes"
   ]
  },
  {
   "cell_type": "code",
   "execution_count": 4,
   "id": "9bdee0b4",
   "metadata": {
    "slideshow": {
     "slide_type": "skip"
    }
   },
   "outputs": [
    {
     "ename": "FileNotFoundError",
     "evalue": "[Errno 2] No such file or directory: 'file.sizes'",
     "output_type": "error",
     "traceback": [
      "\u001b[0;31m---------------------------------------------------------------------------\u001b[0m",
      "\u001b[0;31mFileNotFoundError\u001b[0m                         Traceback (most recent call last)",
      "Input \u001b[0;32mIn [4]\u001b[0m, in \u001b[0;36m<cell line: 3>\u001b[0;34m()\u001b[0m\n\u001b[1;32m      1\u001b[0m i\u001b[38;5;241m=\u001b[39m\u001b[38;5;241m0\u001b[39m\n\u001b[1;32m      2\u001b[0m D\u001b[38;5;241m=\u001b[39m{}\n\u001b[0;32m----> 3\u001b[0m \u001b[38;5;28;01mwith\u001b[39;00m \u001b[38;5;28;43mopen\u001b[39;49m\u001b[43m(\u001b[49m\u001b[38;5;124;43m'\u001b[39;49m\u001b[38;5;124;43mfile.sizes\u001b[39;49m\u001b[38;5;124;43m'\u001b[39;49m\u001b[43m,\u001b[49m\u001b[38;5;124;43m'\u001b[39;49m\u001b[38;5;124;43mr\u001b[39;49m\u001b[38;5;124;43m'\u001b[39;49m\u001b[43m)\u001b[49m \u001b[38;5;28;01mas\u001b[39;00m S:\n\u001b[1;32m      4\u001b[0m     S\u001b[38;5;241m.\u001b[39mreadline(); S\u001b[38;5;241m.\u001b[39mreadline()\n\u001b[1;32m      5\u001b[0m     \u001b[38;5;28;01mfor\u001b[39;00m line \u001b[38;5;129;01min\u001b[39;00m S\u001b[38;5;241m.\u001b[39mreadlines():\n",
      "\u001b[0;31mFileNotFoundError\u001b[0m: [Errno 2] No such file or directory: 'file.sizes'"
     ]
    }
   ],
   "source": [
    "i=0\n",
    "D={}\n",
    "with open('file.sizes','r') as S:\n",
    "    S.readline(); S.readline()\n",
    "    for line in S.readlines():\n",
    "        if 'file' in line:\n",
    "            continue\n",
    "        #print(line[:-1])\n",
    "        L=line.split()\n",
    "        size=int(L[4])\n",
    "        year=int(L[-1][:-4])\n",
    "        #print(year,size)\n",
    "        D[year]=size\n"
   ]
  },
  {
   "cell_type": "code",
   "execution_count": null,
   "id": "4c5c4ab2",
   "metadata": {
    "slideshow": {
     "slide_type": "skip"
    }
   },
   "outputs": [],
   "source": [
    "years=[]\n",
    "sizes=[]\n",
    "for year in sorted(D.keys()):\n",
    "    years.append(year)\n",
    "    sizes.append(D[year])"
   ]
  },
  {
   "cell_type": "code",
   "execution_count": null,
   "id": "eca53f15",
   "metadata": {
    "slideshow": {
     "slide_type": "skip"
    }
   },
   "outputs": [],
   "source": [
    "%pylab inline"
   ]
  },
  {
   "cell_type": "code",
   "execution_count": null,
   "id": "e8155312",
   "metadata": {
    "jupyter": {
     "source_hidden": true
    },
    "slideshow": {
     "slide_type": "slide"
    },
    "tags": []
   },
   "outputs": [],
   "source": [
    "figure(figsize=[15,10])\n",
    "plot(years,sizes)\n",
    "plot([1945,1945],[0,1.2e9],label='End Of WW2')\n",
    "plot([1969,1969],[0,1.2e9]) \n",
    "plot([1969,1974],[1.2e9,1.2e9],label='Richard Nixon is president')\n",
    "title('Size of CSV files as function of number of years')\n",
    "xlabel('year')\n",
    "ylabel('file size')\n",
    "legend()\n",
    "grid()"
   ]
  },
  {
   "cell_type": "code",
   "execution_count": null,
   "id": "6c38a247",
   "metadata": {
    "jupyter": {
     "source_hidden": true
    },
    "slideshow": {
     "slide_type": "subslide"
    },
    "tags": []
   },
   "outputs": [],
   "source": [
    "figure(figsize=[15,10])\n",
    "plot(years[:98],sizes[:98])\n",
    "title('Size of CSV files as function of number of years')\n",
    "xlabel('year')\n",
    "ylabel('file size')\n",
    "grid()"
   ]
  },
  {
   "cell_type": "markdown",
   "id": "080e30a5",
   "metadata": {
    "slideshow": {
     "slide_type": "slide"
    }
   },
   "source": [
    "### Data format\n",
    "\n",
    "Data is in csv (comma separated values)\n",
    "\n",
    "Typical data:  \n",
    "`\n",
    "ITE00100554,17630101,TMAX,-36,,,E,\n",
    "ITE00100554,17630101,TMIN,-50,,,E,\n",
    "ITE00100554,17630102,TMAX,-26,,,E,\n",
    "ITE00100554,17630102,TMIN,-40,,,E,\n",
    "ITE00100554,17630103,TMAX,-9,,,E,\n",
    "ITE00100554,17630103,TMIN,-29,,,E,\n",
    "ITE00100554,17630104,TMAX,-4,,,E,\n",
    "ITE00100554,17630104,TMIN,-24,,,E,\n",
    "ITE00100554,17630105,TMAX,21,,,E,\n",
    "ITE00100554,17630105,TMIN,1,,,E,`"
   ]
  },
  {
   "cell_type": "markdown",
   "id": "8c9c8294",
   "metadata": {
    "slideshow": {
     "slide_type": "subslide"
    }
   },
   "source": [
    "### Main Fields\n",
    "`ITE00100554,17630101,TMAX,-36,,,E,`\n",
    "\n",
    "* `ITE00100554`  name of meteorological station (IT = Italy)\n",
    "* `17630101`  Date: January 1, 1763\n",
    "* `TMAX` Type of measurement: Maximal temperature during day\n",
    "* `-36` The reading (-3.6 degrees centigrade)\n",
    "* `,,,E,` Other parametersout of which only the next to last is defined "
   ]
  },
  {
   "cell_type": "code",
   "execution_count": null,
   "id": "d1511547",
   "metadata": {
    "slideshow": {
     "slide_type": "skip"
    }
   },
   "outputs": [],
   "source": [
    "import os\n",
    "import sys\n",
    "\n",
    "from pyspark import SparkContext\n",
    "from pyspark.sql import SQLContext\n",
    "from pyspark.sql.types import Row, StructField, StructType, StringType, IntegerType,BinaryType\n",
    "\n",
    "from pyspark import SparkContext"
   ]
  },
  {
   "cell_type": "code",
   "execution_count": null,
   "id": "78d3b98a",
   "metadata": {
    "slideshow": {
     "slide_type": "slide"
    }
   },
   "outputs": [],
   "source": [
    "### Spark setup \n",
    "sc = SparkContext(pyFiles=[os.getcwd()+'/lib/numpy_pack.py'])\n",
    "sqlContext = SQLContext(sc)"
   ]
  },
  {
   "cell_type": "code",
   "execution_count": null,
   "id": "0bf4c101",
   "metadata": {
    "jupyter": {
     "source_hidden": true
    },
    "scrolled": true,
    "slideshow": {
     "slide_type": "subslide"
    },
    "tags": []
   },
   "outputs": [],
   "source": [
    "!ls lib"
   ]
  },
  {
   "cell_type": "code",
   "execution_count": null,
   "id": "0fb03469",
   "metadata": {
    "slideshow": {
     "slide_type": "slide"
    }
   },
   "outputs": [],
   "source": [
    "%%time\n",
    "filename='/datasets/cs255-sp22-a00-public/noaa/csv/2020.csv'\n",
    "print(filename) \n",
    "T=sc.textFile(filename) "
   ]
  },
  {
   "cell_type": "code",
   "execution_count": null,
   "id": "1fb9b65c",
   "metadata": {
    "slideshow": {
     "slide_type": "subslide"
    }
   },
   "outputs": [],
   "source": [
    "def ymd2dy(year,month,day):\n",
    "    \"\"\" Translate nomerical year,month,day into day of year \"\"\"\n",
    "    today = datetime.date(year,month,day)\n",
    "    jan1=datetime.date(year,1,1) \n",
    "    diff=today-jan1\n",
    "    return diff.days+1\n",
    "\n",
    "def parse(line):\n",
    "    _list=line.split(',')\n",
    "    station,date,measurement,value=_list[:4]\n",
    "    year=int(date[:4])\n",
    "    month=int(date[4:6])\n",
    "    day=int(date[6:])\n",
    "    dy = ymd2dy(year,month,day)\n",
    "    value=int(value)\n",
    "    return station,year,dy,measurement,value"
   ]
  },
  {
   "cell_type": "code",
   "execution_count": null,
   "id": "3eb644dc",
   "metadata": {
    "slideshow": {
     "slide_type": "subslide"
    }
   },
   "outputs": [],
   "source": [
    "%%time\n",
    "P=T.map(parse)"
   ]
  },
  {
   "cell_type": "code",
   "execution_count": null,
   "id": "a169a7c6",
   "metadata": {
    "slideshow": {
     "slide_type": "fragment"
    },
    "tags": []
   },
   "outputs": [],
   "source": [
    "%%time\n",
    "print('raw entries=',P.count(),end=', ')"
   ]
  },
  {
   "cell_type": "code",
   "execution_count": null,
   "id": "ff233c27",
   "metadata": {
    "slideshow": {
     "slide_type": "subslide"
    },
    "tags": []
   },
   "outputs": [],
   "source": [
    "P.first()"
   ]
  },
  {
   "cell_type": "markdown",
   "id": "82d28ebf",
   "metadata": {
    "slideshow": {
     "slide_type": "slide"
    }
   },
   "source": [
    "### Reorganizing  the data\n",
    "We transform the RDD `P` into a dataframe `df`. In the dataframe each row consists of \n",
    "* **Station** The station code \n",
    "* **Measurement** the type of measurement\n",
    "* **year** the year\n",
    "* **Values**  a serialized numpy array of 365 valuess, each corresponding to a day"
   ]
  },
  {
   "cell_type": "code",
   "execution_count": null,
   "id": "70231b92",
   "metadata": {
    "slideshow": {
     "slide_type": "subslide"
    }
   },
   "outputs": [],
   "source": [
    "def tokeyval(x):\n",
    "    \"\"\" Transform a row of 5 elements into a key,value pair where\n",
    "        key=(station, measurement, year)\n",
    "        value=(day of year, value)\n",
    "    \"\"\"\n",
    "    return ((x[0],x[3],x[1]),(x[2],x[4]))\n",
    "\n",
    "def collate(iterator):\n",
    "    \"\"\"Collate the values from tokeybval into a numpy array\"\"\"\n",
    "    V=np.ones(366,dtype=np.int16)*-999   # -99 indicates a missing value\n",
    "    for dy,val in iterator:\n",
    "        V[dy-1]=val\n",
    "    return bytearray(V)"
   ]
  },
  {
   "cell_type": "code",
   "execution_count": null,
   "id": "10857af4",
   "metadata": {
    "slideshow": {
     "slide_type": "subslide"
    }
   },
   "outputs": [],
   "source": [
    "%%time\n",
    "# Generate an RDD of length-4 tuples.\n",
    "k1=P.map(tokeyval).groupByKey().mapValues(collate).map(lambda x: (x[0][0],x[0][1],x[0][2],x[1]))"
   ]
  },
  {
   "cell_type": "code",
   "execution_count": null,
   "id": "bcff5a9e",
   "metadata": {
    "slideshow": {
     "slide_type": "subslide"
    }
   },
   "outputs": [],
   "source": [
    "schema = StructType([StructField(\"Station\",     StringType(), True),\n",
    "                    StructField(\"Measurement\", StringType(), True),\n",
    "                    StructField(\"Year\",        IntegerType(),True),\n",
    "                    StructField(\"Values\",      BinaryType(),True)\n",
    "                    ])"
   ]
  },
  {
   "cell_type": "code",
   "execution_count": null,
   "id": "b0767675",
   "metadata": {
    "slideshow": {
     "slide_type": "fragment"
    },
    "tags": []
   },
   "outputs": [],
   "source": [
    "%%time\n",
    "df = sqlContext.createDataFrame(k1, schema)"
   ]
  },
  {
   "cell_type": "code",
   "execution_count": null,
   "id": "1c057892",
   "metadata": {
    "scrolled": true,
    "slideshow": {
     "slide_type": "fragment"
    },
    "tags": []
   },
   "outputs": [],
   "source": [
    "%%time\n",
    "print('years=',df.count(),end=', ')"
   ]
  },
  {
   "cell_type": "code",
   "execution_count": null,
   "id": "b689b311",
   "metadata": {
    "scrolled": true,
    "slideshow": {
     "slide_type": "subslide"
    }
   },
   "outputs": [],
   "source": [
    "df.show(5)"
   ]
  },
  {
   "cell_type": "code",
   "execution_count": null,
   "id": "af450f23",
   "metadata": {
    "scrolled": true,
    "slideshow": {
     "slide_type": "slide"
    },
    "tags": []
   },
   "outputs": [],
   "source": [
    "Rows=df.head(100)\n",
    "\n",
    "R=Rows[11]\n",
    "figure()\n",
    "plot(numpy.frombuffer(R[-1],dtype=np.int16))\n",
    "title(R[0]+' '+R[1]);"
   ]
  },
  {
   "cell_type": "code",
   "execution_count": null,
   "id": "15262d7f",
   "metadata": {
    "slideshow": {
     "slide_type": "subslide"
    }
   },
   "outputs": [],
   "source": [
    "R=Rows[12]\n",
    "figure()\n",
    "plot(numpy.frombuffer(R[-1],dtype=np.int16))\n",
    "title(R[0]+' '+R[1]);"
   ]
  },
  {
   "cell_type": "code",
   "execution_count": null,
   "id": "8fd912b5",
   "metadata": {
    "slideshow": {
     "slide_type": "slide"
    },
    "tags": []
   },
   "outputs": [],
   "source": [
    "%%time\n",
    "parquet_filename='/datasets/cs255-sp22-a00-public/2020-parquet'\n",
    "!rm -rf $parquet_filename\n",
    "df.write.save(parquet_filename)"
   ]
  },
  {
   "cell_type": "code",
   "execution_count": null,
   "id": "bf2490d1",
   "metadata": {
    "slideshow": {
     "slide_type": "fragment"
    },
    "tags": []
   },
   "outputs": [],
   "source": [
    "!ls -l /datasets/cs255-sp22-a00-public/2020-parquet | head"
   ]
  }
 ],
 "metadata": {
  "celltoolbar": "Slideshow",
  "kernelspec": {
   "display_name": "Python 3 (ipykernel)",
   "language": "python",
   "name": "python3"
  },
  "language_info": {
   "codemirror_mode": {
    "name": "ipython",
    "version": 3
   },
   "file_extension": ".py",
   "mimetype": "text/x-python",
   "name": "python",
   "nbconvert_exporter": "python",
   "pygments_lexer": "ipython3",
   "version": "3.9.10"
  }
 },
 "nbformat": 4,
 "nbformat_minor": 5
}
