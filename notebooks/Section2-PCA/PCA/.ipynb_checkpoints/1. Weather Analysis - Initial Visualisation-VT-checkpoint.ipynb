{
 "cells": [
  {
   "cell_type": "markdown",
   "metadata": {
    "slideshow": {
     "slide_type": "slide"
    }
   },
   "source": [
    "## Weather Data : Initial Visualization\n",
    "\n",
    "### For VT"
   ]
  },
  {
   "cell_type": "code",
   "execution_count": 1,
   "metadata": {},
   "outputs": [
    {
     "name": "stdout",
     "output_type": "stream",
     "text": [
      "-rwx------ 1 jovyan users 28315 Jan 27 22:22 lib.tgz\r\n"
     ]
    }
   ],
   "source": [
    "!ls -l lib.tgz"
   ]
  },
  {
   "cell_type": "code",
   "execution_count": 2,
   "metadata": {
    "slideshow": {
     "slide_type": "slide"
    }
   },
   "outputs": [],
   "source": [
    "state=\"VT\""
   ]
  },
  {
   "cell_type": "code",
   "execution_count": 3,
   "metadata": {
    "scrolled": true,
    "slideshow": {
     "slide_type": "skip"
    }
   },
   "outputs": [],
   "source": [
    "#sc.stop()"
   ]
  },
  {
   "cell_type": "code",
   "execution_count": 4,
   "metadata": {
    "ExecuteTime": {
     "end_time": "2018-04-26T05:29:35.738958Z",
     "start_time": "2018-04-26T05:29:32.285489Z"
    },
    "slideshow": {
     "slide_type": "skip"
    }
   },
   "outputs": [
    {
     "name": "stdout",
     "output_type": "stream",
     "text": [
      "%pylab is deprecated, use %matplotlib inline and import the required libraries.\n",
      "Populating the interactive namespace from numpy and matplotlib\n"
     ]
    }
   ],
   "source": [
    "import pandas as pd\n",
    "import numpy as np\n",
    "import sklearn as sk\n",
    "%pylab inline"
   ]
  },
  {
   "cell_type": "code",
   "execution_count": 5,
   "metadata": {
    "scrolled": true,
    "slideshow": {
     "slide_type": "slide"
    }
   },
   "outputs": [
    {
     "name": "stdout",
     "output_type": "stream",
     "text": [
      "172.17.0.2\n",
      "sparkContext= <SparkContext master=local[*] appName=pyspark-shell>\n",
      "\n",
      "    pandas as    pd \tversion=1.4.2 \trequired version>=0.19.2\n",
      "\n",
      "     numpy as    np \tversion=1.21.6 \trequired version>=1.12.0\n",
      "\n",
      "   sklearn as    sk \tversion=1.0.2 \trequired version>=0.18.1\n",
      "\n",
      "module urllib has no version\n",
      "   pyspark as pyspark \tversion=3.2.1 \trequired version>=2.1.0\n",
      "\n",
      "ipywidgets as ipywidgets \tversion=7.7.0 \trequired version>=6.0.0\n",
      "\n",
      "version of ipwidgets= 7.7.0\n"
     ]
    },
    {
     "name": "stderr",
     "output_type": "stream",
     "text": [
      "/usr/local/spark/python/pyspark/sql/context.py:77: FutureWarning: Deprecated in 3.0.0. Use SparkSession.builder.getOrCreate() instead.\n",
      "  warnings.warn(\n"
     ]
    },
    {
     "ename": "AnalysisException",
     "evalue": "Path does not exist: file:/datasets/cs255-sp22-a00-public/weather-parquet",
     "output_type": "error",
     "traceback": [
      "\u001b[0;31m---------------------------------------------------------------------------\u001b[0m",
      "\u001b[0;31mAnalysisException\u001b[0m                         Traceback (most recent call last)",
      "File \u001b[0;32m~/public-notebooks/notebooks/Section2-PCA/PCA/lib/startup.py:57\u001b[0m, in \u001b[0;36m<module>\u001b[0;34m\u001b[0m\n\u001b[1;32m     54\u001b[0m parquet_root\u001b[38;5;241m=\u001b[39m\u001b[38;5;124m'\u001b[39m\u001b[38;5;124m/datasets/cs255-sp22-a00-public/\u001b[39m\u001b[38;5;124m'\u001b[39m\n\u001b[1;32m     56\u001b[0m measurements_path\u001b[38;5;241m=\u001b[39mparquet_root\u001b[38;5;241m+\u001b[39m\u001b[38;5;124m'\u001b[39m\u001b[38;5;124m/weather-parquet\u001b[39m\u001b[38;5;124m'\u001b[39m\n\u001b[0;32m---> 57\u001b[0m measurements\u001b[38;5;241m=\u001b[39m\u001b[43msqlContext\u001b[49m\u001b[38;5;241;43m.\u001b[39;49m\u001b[43mread\u001b[49m\u001b[38;5;241;43m.\u001b[39;49m\u001b[43mparquet\u001b[49m\u001b[43m(\u001b[49m\u001b[43mmeasurements_path\u001b[49m\u001b[43m)\u001b[49m\n\u001b[1;32m     58\u001b[0m sqlContext\u001b[38;5;241m.\u001b[39mregisterDataFrameAsTable(measurements,\u001b[38;5;124m'\u001b[39m\u001b[38;5;124mmeasurements\u001b[39m\u001b[38;5;124m'\u001b[39m)\n\u001b[1;32m     60\u001b[0m \u001b[38;5;28mprint\u001b[39m(\u001b[38;5;124m'\u001b[39m\u001b[38;5;124mmeasurements is a Dataframe (and table) with \u001b[39m\u001b[38;5;132;01m%d\u001b[39;00m\u001b[38;5;124m records\u001b[39m\u001b[38;5;124m'\u001b[39m\u001b[38;5;241m%\u001b[39m(measurements\u001b[38;5;241m.\u001b[39mcount()))\n",
      "File \u001b[0;32m/usr/local/spark/python/pyspark/sql/readwriter.py:301\u001b[0m, in \u001b[0;36mDataFrameReader.parquet\u001b[0;34m(self, *paths, **options)\u001b[0m\n\u001b[1;32m    295\u001b[0m int96RebaseMode \u001b[38;5;241m=\u001b[39m options\u001b[38;5;241m.\u001b[39mget(\u001b[38;5;124m'\u001b[39m\u001b[38;5;124mint96RebaseMode\u001b[39m\u001b[38;5;124m'\u001b[39m, \u001b[38;5;28;01mNone\u001b[39;00m)\n\u001b[1;32m    296\u001b[0m \u001b[38;5;28mself\u001b[39m\u001b[38;5;241m.\u001b[39m_set_opts(mergeSchema\u001b[38;5;241m=\u001b[39mmergeSchema, pathGlobFilter\u001b[38;5;241m=\u001b[39mpathGlobFilter,\n\u001b[1;32m    297\u001b[0m                recursiveFileLookup\u001b[38;5;241m=\u001b[39mrecursiveFileLookup, modifiedBefore\u001b[38;5;241m=\u001b[39mmodifiedBefore,\n\u001b[1;32m    298\u001b[0m                modifiedAfter\u001b[38;5;241m=\u001b[39mmodifiedAfter, datetimeRebaseMode\u001b[38;5;241m=\u001b[39mdatetimeRebaseMode,\n\u001b[1;32m    299\u001b[0m                int96RebaseMode\u001b[38;5;241m=\u001b[39mint96RebaseMode)\n\u001b[0;32m--> 301\u001b[0m \u001b[38;5;28;01mreturn\u001b[39;00m \u001b[38;5;28mself\u001b[39m\u001b[38;5;241m.\u001b[39m_df(\u001b[38;5;28;43mself\u001b[39;49m\u001b[38;5;241;43m.\u001b[39;49m\u001b[43m_jreader\u001b[49m\u001b[38;5;241;43m.\u001b[39;49m\u001b[43mparquet\u001b[49m\u001b[43m(\u001b[49m\u001b[43m_to_seq\u001b[49m\u001b[43m(\u001b[49m\u001b[38;5;28;43mself\u001b[39;49m\u001b[38;5;241;43m.\u001b[39;49m\u001b[43m_spark\u001b[49m\u001b[38;5;241;43m.\u001b[39;49m\u001b[43m_sc\u001b[49m\u001b[43m,\u001b[49m\u001b[43m \u001b[49m\u001b[43mpaths\u001b[49m\u001b[43m)\u001b[49m\u001b[43m)\u001b[49m)\n",
      "File \u001b[0;32m/usr/local/spark/python/lib/py4j-0.10.9.3-src.zip/py4j/java_gateway.py:1321\u001b[0m, in \u001b[0;36mJavaMember.__call__\u001b[0;34m(self, *args)\u001b[0m\n\u001b[1;32m   1315\u001b[0m command \u001b[38;5;241m=\u001b[39m proto\u001b[38;5;241m.\u001b[39mCALL_COMMAND_NAME \u001b[38;5;241m+\u001b[39m\\\n\u001b[1;32m   1316\u001b[0m     \u001b[38;5;28mself\u001b[39m\u001b[38;5;241m.\u001b[39mcommand_header \u001b[38;5;241m+\u001b[39m\\\n\u001b[1;32m   1317\u001b[0m     args_command \u001b[38;5;241m+\u001b[39m\\\n\u001b[1;32m   1318\u001b[0m     proto\u001b[38;5;241m.\u001b[39mEND_COMMAND_PART\n\u001b[1;32m   1320\u001b[0m answer \u001b[38;5;241m=\u001b[39m \u001b[38;5;28mself\u001b[39m\u001b[38;5;241m.\u001b[39mgateway_client\u001b[38;5;241m.\u001b[39msend_command(command)\n\u001b[0;32m-> 1321\u001b[0m return_value \u001b[38;5;241m=\u001b[39m \u001b[43mget_return_value\u001b[49m\u001b[43m(\u001b[49m\n\u001b[1;32m   1322\u001b[0m \u001b[43m    \u001b[49m\u001b[43manswer\u001b[49m\u001b[43m,\u001b[49m\u001b[43m \u001b[49m\u001b[38;5;28;43mself\u001b[39;49m\u001b[38;5;241;43m.\u001b[39;49m\u001b[43mgateway_client\u001b[49m\u001b[43m,\u001b[49m\u001b[43m \u001b[49m\u001b[38;5;28;43mself\u001b[39;49m\u001b[38;5;241;43m.\u001b[39;49m\u001b[43mtarget_id\u001b[49m\u001b[43m,\u001b[49m\u001b[43m \u001b[49m\u001b[38;5;28;43mself\u001b[39;49m\u001b[38;5;241;43m.\u001b[39;49m\u001b[43mname\u001b[49m\u001b[43m)\u001b[49m\n\u001b[1;32m   1324\u001b[0m \u001b[38;5;28;01mfor\u001b[39;00m temp_arg \u001b[38;5;129;01min\u001b[39;00m temp_args:\n\u001b[1;32m   1325\u001b[0m     temp_arg\u001b[38;5;241m.\u001b[39m_detach()\n",
      "File \u001b[0;32m/usr/local/spark/python/pyspark/sql/utils.py:117\u001b[0m, in \u001b[0;36mcapture_sql_exception.<locals>.deco\u001b[0;34m(*a, **kw)\u001b[0m\n\u001b[1;32m    113\u001b[0m converted \u001b[38;5;241m=\u001b[39m convert_exception(e\u001b[38;5;241m.\u001b[39mjava_exception)\n\u001b[1;32m    114\u001b[0m \u001b[38;5;28;01mif\u001b[39;00m \u001b[38;5;129;01mnot\u001b[39;00m \u001b[38;5;28misinstance\u001b[39m(converted, UnknownException):\n\u001b[1;32m    115\u001b[0m     \u001b[38;5;66;03m# Hide where the exception came from that shows a non-Pythonic\u001b[39;00m\n\u001b[1;32m    116\u001b[0m     \u001b[38;5;66;03m# JVM exception message.\u001b[39;00m\n\u001b[0;32m--> 117\u001b[0m     \u001b[38;5;28;01mraise\u001b[39;00m converted \u001b[38;5;28;01mfrom\u001b[39;00m \u001b[38;5;28mNone\u001b[39m\n\u001b[1;32m    118\u001b[0m \u001b[38;5;28;01melse\u001b[39;00m:\n\u001b[1;32m    119\u001b[0m     \u001b[38;5;28;01mraise\u001b[39;00m\n",
      "\u001b[0;31mAnalysisException\u001b[0m: Path does not exist: file:/datasets/cs255-sp22-a00-public/weather-parquet"
     ]
    },
    {
     "name": "stdout",
     "output_type": "stream",
     "text": [
      "CPU times: user 760 ms, sys: 67.8 ms, total: 828 ms\n",
      "Wall time: 4.16 s\n"
     ]
    }
   ],
   "source": [
    "%%time\n",
    "%run lib/startup.py"
   ]
  },
  {
   "cell_type": "code",
   "execution_count": null,
   "metadata": {},
   "outputs": [],
   "source": []
  },
  {
   "cell_type": "code",
   "execution_count": 6,
   "metadata": {
    "ExecuteTime": {
     "end_time": "2018-04-26T05:29:39.775086Z",
     "start_time": "2018-04-26T05:29:39.771610Z"
    },
    "slideshow": {
     "slide_type": "skip"
    }
   },
   "outputs": [],
   "source": [
    "import warnings  # Suppress Warnings\n",
    "warnings.filterwarnings('ignore')\n",
    "\n",
    "_figsize=(10,7)"
   ]
  },
  {
   "cell_type": "markdown",
   "metadata": {
    "slideshow": {
     "slide_type": "subslide"
    }
   },
   "source": [
    "## Read Data\n",
    "\n",
    "### show 3 rows of joined weather+stations table"
   ]
  },
  {
   "cell_type": "code",
   "execution_count": 7,
   "metadata": {
    "slideshow": {
     "slide_type": "slide"
    }
   },
   "outputs": [
    {
     "ename": "NameError",
     "evalue": "name 'stations' is not defined",
     "output_type": "error",
     "traceback": [
      "\u001b[0;31m---------------------------------------------------------------------------\u001b[0m",
      "\u001b[0;31mNameError\u001b[0m                                 Traceback (most recent call last)",
      "Input \u001b[0;32mIn [7]\u001b[0m, in \u001b[0;36m<cell line: 2>\u001b[0;34m()\u001b[0m\n\u001b[1;32m      1\u001b[0m \u001b[38;5;66;03m### Total number of stations\u001b[39;00m\n\u001b[0;32m----> 2\u001b[0m \u001b[43mstations\u001b[49m\u001b[38;5;241m.\u001b[39mcount()\n",
      "\u001b[0;31mNameError\u001b[0m: name 'stations' is not defined"
     ]
    }
   ],
   "source": [
    "### Total number of stations\n",
    "stations.count()"
   ]
  },
  {
   "cell_type": "code",
   "execution_count": null,
   "metadata": {
    "ExecuteTime": {
     "end_time": "2018-04-26T05:36:17.881748Z",
     "start_time": "2018-04-26T05:36:07.320862Z"
    },
    "slideshow": {
     "slide_type": "subslide"
    }
   },
   "outputs": [],
   "source": [
    "%%time\n",
    "weather=measurements.join(stations,on='station')\n",
    "weather.show(3)"
   ]
  },
  {
   "cell_type": "code",
   "execution_count": null,
   "metadata": {
    "slideshow": {
     "slide_type": "subslide"
    }
   },
   "outputs": [],
   "source": [
    "sqlContext.registerDataFrameAsTable(weather,'weather')"
   ]
  },
  {
   "cell_type": "code",
   "execution_count": null,
   "metadata": {
    "ExecuteTime": {
     "end_time": "2018-04-26T05:36:20.103328Z",
     "start_time": "2018-04-26T05:36:19.973958Z"
    },
    "slideshow": {
     "slide_type": "subslide"
    }
   },
   "outputs": [],
   "source": [
    "ms=['TMAX', 'SNOW', 'SNWD', 'TMIN', 'PRCP', 'TOBS']\n",
    "# ms=['TMAX', 'TMIN', 'TOBS']\n",
    "cms='or\\n'.join(['Measurement=\"%s\" '%(m) for m in ms])\n",
    "\n",
    "##  read all data for state\n",
    "Query=\"\"\"\n",
    "SELECT *\n",
    "FROM weather\n",
    "WHERE state=\"%s\" and \n",
    "(%s)\n",
    "\"\"\"%(state,cms)\n",
    "print(Query)"
   ]
  },
  {
   "cell_type": "code",
   "execution_count": null,
   "metadata": {
    "ExecuteTime": {
     "end_time": "2018-04-26T05:36:33.248250Z",
     "start_time": "2018-04-26T05:36:32.413907Z"
    },
    "slideshow": {
     "slide_type": "subslide"
    }
   },
   "outputs": [],
   "source": [
    "%%time\n",
    "weather_df=sqlContext.sql(Query)\n",
    "print('number of rows in result=',weather_df.count())\n",
    "weather_df.show(2)"
   ]
  },
  {
   "cell_type": "markdown",
   "metadata": {
    "slideshow": {
     "slide_type": "slide"
    }
   },
   "source": [
    "### read or compute statistics information for state."
   ]
  },
  {
   "cell_type": "code",
   "execution_count": null,
   "metadata": {
    "ExecuteTime": {
     "end_time": "2018-04-26T05:37:25.029675Z",
     "start_time": "2018-04-26T05:37:19.727103Z"
    },
    "slideshow": {
     "slide_type": "subslide"
    }
   },
   "outputs": [],
   "source": [
    "%%time\n",
    "import os.path\n",
    "from lib.computeStatistics import computeStatistics\n",
    "from pickle import dump,load\n",
    "\n",
    "weather_dir=parquet_root+'/weather_statistics/'\n",
    "if not os.path.isdir(weather_dir):\n",
    "    os.mkdir(weather_dir)"
   ]
  },
  {
   "cell_type": "code",
   "execution_count": null,
   "metadata": {},
   "outputs": [],
   "source": [
    "weather_df.count()"
   ]
  },
  {
   "cell_type": "code",
   "execution_count": null,
   "metadata": {},
   "outputs": [],
   "source": [
    "ms=['TMAX', 'SNOW', 'SNWD', 'TMIN', 'PRCP', 'TOBS']\n",
    "# ms=['TMAX', 'TMIN', 'TOBS']\n",
    "cms='or\\n'.join(['Measurement=\"%s\" '%(m) for m in ms])\n",
    "cms"
   ]
  },
  {
   "cell_type": "code",
   "execution_count": null,
   "metadata": {
    "ExecuteTime": {
     "end_time": "2018-04-26T05:37:25.029675Z",
     "start_time": "2018-04-26T05:37:19.727103Z"
    },
    "slideshow": {
     "slide_type": "subslide"
    }
   },
   "outputs": [],
   "source": [
    "pkl_filename=parquet_root+'weather-statistics/'+state+'-'+','.join(ms)+'.pkl'\n",
    "!ls $pkl_filename"
   ]
  },
  {
   "cell_type": "code",
   "execution_count": null,
   "metadata": {
    "ExecuteTime": {
     "end_time": "2018-04-26T05:37:25.029675Z",
     "start_time": "2018-04-26T05:37:19.727103Z"
    },
    "slideshow": {
     "slide_type": "subslide"
    }
   },
   "outputs": [],
   "source": [
    "if os.path.isfile(pkl_filename):   \n",
    "    print('precomputed statistics file exists')\n",
    "    with open(pkl_filename,'br') as pkl_file:\n",
    "        STAT=load(pkl_file)\n",
    "else:\n",
    "    print('computing statistics')\n",
    "    STAT=computeStatistics(sqlContext,weather_df,measurements=ms)\n",
    "    with open(pkl_filename,'bw') as pkl_file:\n",
    "        dump(STAT,pkl_file)\n",
    "\n",
    "STAT.keys()"
   ]
  },
  {
   "cell_type": "code",
   "execution_count": null,
   "metadata": {
    "ExecuteTime": {
     "end_time": "2018-04-26T05:37:33.842414Z",
     "start_time": "2018-04-26T05:37:33.837763Z"
    },
    "slideshow": {
     "slide_type": "subslide"
    }
   },
   "outputs": [],
   "source": [
    "print(\"   Name  \\t                 Description             \\t  Size\")\n",
    "print(\"-\"*80)\n",
    "print('\\n'.join([\"%10s\\t%40s\\t%s\"%(s[0],s[1],str(s[2])) for s in STAT_Descriptions]))"
   ]
  },
  {
   "cell_type": "markdown",
   "metadata": {
    "slideshow": {
     "slide_type": "slide"
    }
   },
   "source": [
    "### print statistics for TOBS"
   ]
  },
  {
   "cell_type": "code",
   "execution_count": null,
   "metadata": {
    "scrolled": true,
    "slideshow": {
     "slide_type": "subslide"
    }
   },
   "outputs": [],
   "source": [
    "S=STAT['TOBS']\n",
    "for key in ['mean', 'std', 'low100', 'high100']:\n",
    "    element=S[key]\n",
    "    print(key,'=',end='')\n",
    "    if type(element)==numpy.float64 or type(element)==numpy.float16:\n",
    "        print('%6.2f'%element)\n",
    "    elif type(element)==numpy.ndarray:\n",
    "        print (element)\n",
    "    else:\n",
    "        print('unidentified type=',type(element))"
   ]
  },
  {
   "cell_type": "code",
   "execution_count": null,
   "metadata": {
    "slideshow": {
     "slide_type": "subslide"
    }
   },
   "outputs": [],
   "source": [
    "%pylab inline\n",
    "measurement='TOBS'\n",
    "Sobs=STAT[measurement]['SortedVals']\n",
    "\n",
    "#figure(figsize=[15,10])\n",
    "n_obs=Sobs.shape[0]\n",
    "p=arange(0,1,1/n_obs)\n",
    "plot(Sobs,p)\n",
    "title('CDF of '+measurement)\n",
    "grid()"
   ]
  },
  {
   "cell_type": "code",
   "execution_count": null,
   "metadata": {},
   "outputs": [],
   "source": [
    "## distribution of undefined elements in yearly measurements.\n",
    "hist(S['UnDef'],bins=100);\n",
    "xlabel('number of undefined days in a year');\n",
    "title(state+'     '+measurement);"
   ]
  },
  {
   "cell_type": "code",
   "execution_count": null,
   "metadata": {
    "scrolled": true,
    "slideshow": {
     "slide_type": "subslide"
    }
   },
   "outputs": [],
   "source": [
    "%%time\n",
    "## Find the number of measurements of each of the common 6 types in MA\n",
    "\n",
    "Query=\"\"\"\n",
    "select Measurement,count(Measurement) as count\n",
    "from weather\n",
    "WHERE state='%s'\n",
    "GROUP BY Measurement\n",
    "ORDER BY count DESC\n",
    "\"\"\"%state\n",
    "sqlContext.sql(Query).show(15)"
   ]
  },
  {
   "cell_type": "code",
   "execution_count": null,
   "metadata": {
    "scrolled": true,
    "slideshow": {
     "slide_type": "subslide"
    }
   },
   "outputs": [],
   "source": [
    "!grep WESF $parquet_root/noaa/readme.txt"
   ]
  },
  {
   "cell_type": "code",
   "execution_count": null,
   "metadata": {
    "slideshow": {
     "slide_type": "fragment"
    }
   },
   "outputs": [],
   "source": [
    "!grep WT $parquet_root/noaa/readme.txt"
   ]
  },
  {
   "cell_type": "code",
   "execution_count": null,
   "metadata": {
    "slideshow": {
     "slide_type": "subslide"
    }
   },
   "outputs": [],
   "source": [
    "## Find the number of measurements (years) for each station in state\n",
    "Query=\"\"\"\n",
    "select Station,count(Station) as count\n",
    "from weather\n",
    "WHERE state='%s' and Measurement='TOBS'\n",
    "GROUP BY Station\n",
    "ORDER BY count DESC\n",
    "\"\"\"%state\n",
    "#print(Query)\n",
    "tmp=sqlContext.sql(Query)\n",
    "print(tmp.count())\n",
    "tmp.show(3)"
   ]
  },
  {
   "cell_type": "code",
   "execution_count": null,
   "metadata": {},
   "outputs": [],
   "source": [
    "### show details of state\n",
    "station=\"USC00431580\"\n",
    "Query=\"\"\"\n",
    "select * from stations\n",
    "WHERE Station=\"%s\"\n",
    "\"\"\"%station\n",
    "sqlContext.sql(Query).show()"
   ]
  },
  {
   "cell_type": "code",
   "execution_count": null,
   "metadata": {
    "ExecuteTime": {
     "end_time": "2018-04-26T05:45:36.186897Z",
     "start_time": "2018-04-26T05:45:35.219102Z"
    },
    "scrolled": true,
    "slideshow": {
     "slide_type": "subslide"
    }
   },
   "outputs": [],
   "source": [
    "#find how many measurements of each type for a particlar station\n",
    "Query=\"\"\"\n",
    "SELECT Measurement,count(Measurement) as count \n",
    "FROM weather\n",
    "WHERE Station='%s' \n",
    "GROUP BY Measurement\n",
    "ORDER BY count DESC\n",
    "\"\"\"%station\n",
    "sqlContext.sql(Query).show(8)"
   ]
  },
  {
   "cell_type": "code",
   "execution_count": null,
   "metadata": {
    "ExecuteTime": {
     "end_time": "2018-04-26T05:46:24.005208Z",
     "start_time": "2018-04-26T05:46:22.569420Z"
    },
    "slideshow": {
     "slide_type": "subslide"
    }
   },
   "outputs": [],
   "source": [
    "%%time\n",
    "#find year with all measurements\n",
    "Query=\"\"\"\n",
    "SELECT Year,count(Year) as count \n",
    "FROM weather\n",
    "WHERE Station='%s' \n",
    "GROUP BY Year\n",
    "ORDER BY count DESC\n",
    "\"\"\"%station\n",
    "pdf=sqlContext.sql(Query).toPandas()"
   ]
  },
  {
   "cell_type": "code",
   "execution_count": null,
   "metadata": {
    "scrolled": true,
    "slideshow": {
     "slide_type": "subslide"
    }
   },
   "outputs": [],
   "source": [
    "pdf.head()"
   ]
  },
  {
   "cell_type": "code",
   "execution_count": null,
   "metadata": {
    "slideshow": {
     "slide_type": "subslide"
    }
   },
   "outputs": [],
   "source": [
    "from collections import Counter\n",
    "Counter(list(pdf['count']))"
   ]
  },
  {
   "cell_type": "code",
   "execution_count": null,
   "metadata": {
    "ExecuteTime": {
     "end_time": "2018-04-26T05:46:27.416150Z",
     "start_time": "2018-04-26T05:46:27.058651Z"
    },
    "slideshow": {
     "slide_type": "subslide"
    }
   },
   "outputs": [],
   "source": [
    "# get all measurements for a particular year and a particular station\n",
    "year=1945\n",
    "Query=\"\"\"\n",
    "SELECT *\n",
    "FROM weather\n",
    "WHERE Year='%s' \n",
    "and Measurement='TOBS'\n",
    "and State='%s'\n",
    "\"\"\"%(year,state)\n",
    "df=sqlContext.sql(Query)\n",
    "print(df.count())\n",
    "df.show(1)"
   ]
  },
  {
   "cell_type": "code",
   "execution_count": null,
   "metadata": {},
   "outputs": [],
   "source": [
    "%%time\n",
    "ListOfRows=df.rdd.map(lambda x: (x.Station,unpackAndScale(x))).collect()\n",
    "_labels = [x[0] for x in ListOfRows]\n",
    "M=stack([x[1] for x in ListOfRows])\n",
    "M.shape\n",
    "        "
   ]
  },
  {
   "cell_type": "code",
   "execution_count": null,
   "metadata": {
    "scrolled": true
   },
   "outputs": [],
   "source": [
    "from lib.YearPlotter import YearPlotter\n",
    "k=5\n",
    "_title='TOBS for %s / %d'%(station,year)\n",
    "fig, ax = plt.subplots(figsize=_figsize);\n",
    "YP=YearPlotter()\n",
    "YP.plot(M[:k,:366].T,fig,ax,title=_title,labels=_labels)# ,labels=labels);\n",
    "ylabel('temp in centigrade');"
   ]
  },
  {
   "cell_type": "code",
   "execution_count": null,
   "metadata": {},
   "outputs": [],
   "source": [
    "#looking at all of the year creates a mess\n",
    "from lib.YearPlotter import YearPlotter\n",
    "k=30\n",
    "fig, ax = plt.subplots(figsize=_figsize);\n",
    "YP=YearPlotter()\n",
    "YP.plot(M[:k,:366].T,fig,ax,title=_title,labels=_labels)# ,labels=labels);\n",
    "ylabel('temp in centigrade');"
   ]
  },
  {
   "cell_type": "code",
   "execution_count": null,
   "metadata": {},
   "outputs": [],
   "source": [
    "## Looking at a small range of days  across all stations in state reveals \n",
    "## Interesting clustering\n",
    "figure(figsize=_figsize)\n",
    "plot(M[:,60:70].transpose());\n",
    "grid()"
   ]
  },
  {
   "cell_type": "code",
   "execution_count": null,
   "metadata": {
    "slideshow": {
     "slide_type": "subslide"
    }
   },
   "outputs": [],
   "source": [
    "# get all measurements for a particular year and a particular station\n",
    "Query=\"\"\"\n",
    "SELECT *\n",
    "FROM weather\n",
    "WHERE Station='%s' \n",
    "and Year=%d\n",
    "\"\"\"%(station,year )\n",
    "print(Query)\n",
    "pandas_df=sqlContext.sql(Query).toPandas()\n",
    "pandas_df=pandas_df.set_index('Measurement')\n",
    "print('pandas_df.shape=',pandas_df.shape)\n",
    "print('pandas_df.columns=',pandas_df.columns)"
   ]
  },
  {
   "cell_type": "code",
   "execution_count": null,
   "metadata": {
    "ExecuteTime": {
     "end_time": "2018-04-26T05:51:03.222099Z",
     "start_time": "2018-04-26T05:51:02.976244Z"
    },
    "hide_input": true,
    "slideshow": {
     "slide_type": "subslide"
    }
   },
   "outputs": [],
   "source": [
    "_tmax=unpackArray(pandas_df.loc['TMAX','Values'],np.int16)/10.\n",
    "_tmin=unpackArray(pandas_df.loc['TMIN','Values'],np.int16)/10.\n",
    "_tobs=unpackArray(pandas_df.loc['TOBS','Values'],np.int16)/10.\n",
    "figure(figsize=_figsize)\n",
    "plot(_tmax,label='TMAX');\n",
    "plot(_tmin,label='TMIN');\n",
    "plot(_tobs,label='TOBS');\n",
    "\n",
    "xlabel('day of year')\n",
    "ylabel('degrees centigade')\n",
    "title('Temperatures for %s in %d'%(station,year))\n",
    "legend()\n",
    "grid()"
   ]
  },
  {
   "cell_type": "markdown",
   "metadata": {
    "slideshow": {
     "slide_type": "subslide"
    }
   },
   "source": [
    "### Script for plotting yearly plots"
   ]
  },
  {
   "cell_type": "code",
   "execution_count": null,
   "metadata": {
    "ExecuteTime": {
     "end_time": "2018-04-26T05:55:00.406930Z",
     "start_time": "2018-04-26T05:55:00.171054Z"
    },
    "hide_input": true,
    "slideshow": {
     "slide_type": "fragment"
    }
   },
   "outputs": [],
   "source": [
    "from lib.YearPlotter import YearPlotter\n",
    "T=np.stack([_tmin,_tmax,_tobs])\n",
    "\n",
    "fig, ax = plt.subplots(figsize=_figsize);\n",
    "YP=YearPlotter()\n",
    "YP.plot(T.transpose(),fig,ax,title='Temperatures for %s in %d'%(station,year));\n",
    "plt.savefig('percipitation.png')\n",
    "#title('A sample of graphs');"
   ]
  },
  {
   "cell_type": "markdown",
   "metadata": {
    "slideshow": {
     "slide_type": "slide"
    }
   },
   "source": [
    "## Statistics across the state\n",
    "\n",
    "### Distribution of missing observations\n",
    "The distribution of missing observations is not uniform throughout the year. We visualize it below."
   ]
  },
  {
   "cell_type": "code",
   "execution_count": null,
   "metadata": {
    "ExecuteTime": {
     "end_time": "2018-04-26T05:55:04.143256Z",
     "start_time": "2018-04-26T05:55:04.138516Z"
    },
    "slideshow": {
     "slide_type": "subslide"
    }
   },
   "outputs": [],
   "source": [
    "from lib.MultiPlot import *\n",
    "YP=YearPlotter()\n",
    "def plot_valid(m,fig,axis):\n",
    "    valid_m=STAT[m]['NE']\n",
    "    YP.plot(valid_m,fig,axis,title='valid-counts '+m,label=m)\n",
    "    "
   ]
  },
  {
   "cell_type": "code",
   "execution_count": null,
   "metadata": {
    "ExecuteTime": {
     "end_time": "2018-04-26T05:55:07.993651Z",
     "start_time": "2018-04-26T05:55:07.755506Z"
    },
    "slideshow": {
     "slide_type": "subslide"
    }
   },
   "outputs": [],
   "source": [
    "plot_pair(['TMIN','TMAX'],plot_valid)"
   ]
  },
  {
   "cell_type": "code",
   "execution_count": null,
   "metadata": {
    "ExecuteTime": {
     "end_time": "2018-04-13T16:34:33.279990Z",
     "start_time": "2018-04-13T16:34:32.959310Z"
    },
    "slideshow": {
     "slide_type": "subslide"
    }
   },
   "outputs": [],
   "source": [
    "plot_pair(['TOBS','PRCP'],plot_valid)"
   ]
  },
  {
   "cell_type": "code",
   "execution_count": null,
   "metadata": {
    "ExecuteTime": {
     "end_time": "2018-04-13T16:34:34.414874Z",
     "start_time": "2018-04-13T16:34:34.142768Z"
    },
    "slideshow": {
     "slide_type": "subslide"
    }
   },
   "outputs": [],
   "source": [
    "# Note that for \"SNOW\" there are more missing measurements in the summer\n",
    "# While for SNWD there are less missing in the summer\n",
    "# Question: do these anomalies involve the same stations?\n",
    "plot_pair(['SNOW', 'SNWD'],plot_valid)"
   ]
  },
  {
   "cell_type": "markdown",
   "metadata": {
    "slideshow": {
     "slide_type": "slide"
    }
   },
   "source": [
    "### Plots of mean and std of observations"
   ]
  },
  {
   "cell_type": "code",
   "execution_count": null,
   "metadata": {
    "ExecuteTime": {
     "end_time": "2018-04-26T05:55:25.489428Z",
     "start_time": "2018-04-26T05:55:25.473626Z"
    },
    "slideshow": {
     "slide_type": "skip"
    }
   },
   "outputs": [],
   "source": [
    "def plot_mean_std(m,fig,axis):\n",
    "    scale=1.\n",
    "    temps=['TMIN','TMAX','TOBS']\n",
    "    percipitation=['PRCP','SNOW','SNWD']\n",
    "    _labels=['mean+std','mean','mean-std']\n",
    "    if (m in percipitation):\n",
    "        scale=10.\n",
    "    mean=STAT[m]['Mean']/scale\n",
    "    std=np.sqrt(STAT[m]['Var'])/scale\n",
    "    graphs=np.vstack([mean+std,mean,mean-std]).transpose()\n",
    "    YP.plot(graphs,fig,axis,labels=_labels,title='Mean+-std   '+m)\n",
    "    if (m in temps):\n",
    "        axis.set_ylabel('Degrees Celsius')\n",
    "    if (m in percipitation):\n",
    "        axis.set_ylabel('millimeter')\n",
    "\n"
   ]
  },
  {
   "cell_type": "code",
   "execution_count": null,
   "metadata": {
    "ExecuteTime": {
     "end_time": "2018-04-26T05:55:28.524502Z",
     "start_time": "2018-04-26T05:55:28.224754Z"
    },
    "scrolled": true,
    "slideshow": {
     "slide_type": "subslide"
    }
   },
   "outputs": [],
   "source": [
    "plot_pair(['TMIN','TMAX'],plot_mean_std)"
   ]
  },
  {
   "cell_type": "code",
   "execution_count": null,
   "metadata": {
    "slideshow": {
     "slide_type": "subslide"
    }
   },
   "outputs": [],
   "source": [
    "plot_pair(['TMAX','TOBS'],plot_mean_std)"
   ]
  },
  {
   "cell_type": "code",
   "execution_count": null,
   "metadata": {
    "ExecuteTime": {
     "end_time": "2018-04-26T05:55:54.161446Z",
     "start_time": "2018-04-26T05:55:53.868333Z"
    },
    "slideshow": {
     "slide_type": "subslide"
    }
   },
   "outputs": [],
   "source": [
    "plot_pair(['PRCP','SNOW'],plot_mean_std)"
   ]
  },
  {
   "cell_type": "code",
   "execution_count": null,
   "metadata": {
    "ExecuteTime": {
     "end_time": "2018-04-26T05:58:24.916555Z",
     "start_time": "2018-04-26T05:58:24.627853Z"
    },
    "slideshow": {
     "slide_type": "subslide"
    }
   },
   "outputs": [],
   "source": [
    "plot_pair(['SNOW', 'SNWD'],plot_mean_std)"
   ]
  },
  {
   "cell_type": "code",
   "execution_count": null,
   "metadata": {},
   "outputs": [],
   "source": []
  },
  {
   "cell_type": "code",
   "execution_count": null,
   "metadata": {},
   "outputs": [],
   "source": []
  }
 ],
 "metadata": {
  "anaconda-cloud": {},
  "celltoolbar": "Slideshow",
  "hide_input": false,
  "kernelspec": {
   "display_name": "Python 3 (ipykernel)",
   "language": "python",
   "name": "python3"
  },
  "language_info": {
   "codemirror_mode": {
    "name": "ipython",
    "version": 3
   },
   "file_extension": ".py",
   "mimetype": "text/x-python",
   "name": "python",
   "nbconvert_exporter": "python",
   "pygments_lexer": "ipython3",
   "version": "3.9.10"
  },
  "toc": {
   "base_numbering": 1,
   "nav_menu": {
    "height": "190px",
    "width": "252px"
   },
   "number_sections": true,
   "sideBar": true,
   "skip_h1_title": false,
   "title_cell": "Table of Contents",
   "title_sidebar": "Contents",
   "toc_cell": false,
   "toc_position": {
    "height": "514px",
    "left": "0px",
    "right": "925px",
    "top": "107px",
    "width": "323px"
   },
   "toc_section_display": "block",
   "toc_window_display": false
  }
 },
 "nbformat": 4,
 "nbformat_minor": 4
}
