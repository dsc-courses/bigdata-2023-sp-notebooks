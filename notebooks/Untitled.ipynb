{
 "cells": [
  {
   "cell_type": "code",
   "execution_count": 13,
   "id": "269fa0da",
   "metadata": {},
   "outputs": [],
   "source": [
    "import yaml\n",
    "\n",
    "yaml_handle=open('environ.yaml','r')\n",
    "yaml_content=yaml.safe_load(yaml_handle)\n",
    "\n",
    "yaml_content"
   ]
  },
  {
   "cell_type": "code",
   "execution_count": 27,
   "id": "532214ff",
   "metadata": {},
   "outputs": [
    {
     "name": "stdout",
     "output_type": "stream",
     "text": [
      "/home/jovyan/public-notebooks/notebooks/Section2-PCA/PCA/lib\r\n"
     ]
    }
   ],
   "source": [
    "!pwd"
   ]
  },
  {
   "cell_type": "code",
   "execution_count": 20,
   "id": "dce68d8a",
   "metadata": {},
   "outputs": [
    {
     "name": "stdout",
     "output_type": "stream",
     "text": [
      "/home/jovyan/public-notebooks/notebooks/Section2-PCA/PCA/lib\n"
     ]
    }
   ],
   "source": [
    "cd notebooks/Section2-PCA/PCA/lib/"
   ]
  },
  {
   "cell_type": "code",
   "execution_count": 24,
   "id": "265cbef2",
   "metadata": {},
   "outputs": [
    {
     "name": "stdout",
     "output_type": "stream",
     "text": [
      "weather_data: /datasets/weather/datasets/ # For running in Docker"
     ]
    }
   ],
   "source": [
    "!cat ../../../../environ.yaml"
   ]
  },
  {
   "cell_type": "code",
   "execution_count": 26,
   "id": "48275c7f",
   "metadata": {},
   "outputs": [],
   "source": [
    "!ln -s ../../../../environ.yaml environ.yaml"
   ]
  },
  {
   "cell_type": "code",
   "execution_count": 29,
   "id": "dbf5d2c3",
   "metadata": {},
   "outputs": [
    {
     "name": "stdout",
     "output_type": "stream",
     "text": [
      "/home/jovyan/public-notebooks/notebooks/Section2-PCA/PCA\n"
     ]
    }
   ],
   "source": [
    "%cd .."
   ]
  },
  {
   "cell_type": "code",
   "execution_count": 30,
   "id": "eeafb849",
   "metadata": {},
   "outputs": [],
   "source": [
    "!ln -s ../../../environ.yaml environ.yaml"
   ]
  },
  {
   "cell_type": "code",
   "execution_count": 31,
   "id": "34d91c2b",
   "metadata": {},
   "outputs": [
    {
     "name": "stdout",
     "output_type": "stream",
     "text": [
      "weather_data: /datasets/weather/datasets/ # For running in Docker"
     ]
    }
   ],
   "source": [
    "!cat environ.yaml"
   ]
  },
  {
   "cell_type": "code",
   "execution_count": null,
   "id": "7039fbb9",
   "metadata": {},
   "outputs": [],
   "source": []
  }
 ],
 "metadata": {
  "kernelspec": {
   "display_name": "Python 3 (ipykernel)",
   "language": "python",
   "name": "python3"
  },
  "language_info": {
   "codemirror_mode": {
    "name": "ipython",
    "version": 3
   },
   "file_extension": ".py",
   "mimetype": "text/x-python",
   "name": "python",
   "nbconvert_exporter": "python",
   "pygments_lexer": "ipython3",
   "version": "3.9.10"
  }
 },
 "nbformat": 4,
 "nbformat_minor": 5
}
